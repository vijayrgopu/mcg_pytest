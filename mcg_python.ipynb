{
  "nbformat": 4,
  "nbformat_minor": 0,
  "metadata": {
    "colab": {
      "provenance": [],
      "authorship_tag": "ABX9TyPNpisZs65xZioDNwSti9mh",
      "include_colab_link": true
    },
    "kernelspec": {
      "name": "python3",
      "display_name": "Python 3"
    },
    "language_info": {
      "name": "python"
    }
  },
  "cells": [
    {
      "cell_type": "markdown",
      "metadata": {
        "id": "view-in-github",
        "colab_type": "text"
      },
      "source": [
        "<a href=\"https://colab.research.google.com/github/vijayrgopu/mcg_pytest/blob/main/mcg_python.ipynb\" target=\"_parent\"><img src=\"https://colab.research.google.com/assets/colab-badge.svg\" alt=\"Open In Colab\"/></a>"
      ]
    },
    {
      "cell_type": "markdown",
      "source": [
        "# Using Google Collab to Runthis.\n",
        "\n",
        "Run as many times from starting to end and it works perfectly.\n",
        "\n",
        "Steps to Run are given below:\n",
        "\n",
        "\n",
        "1.   Click on \"Runtime\" (next to Insert on the top left corner)\n",
        "2.   Click on \"Run All\" (Also can use CRTL + F9)\n",
        "\n",
        "\n",
        "\n"
      ],
      "metadata": {
        "id": "XCV0Uu4caZZi"
      }
    },
    {
      "cell_type": "markdown",
      "source": [
        "# Remove any previously run files and start with fresh download"
      ],
      "metadata": {
        "id": "XSm3PCbXbAXY"
      }
    },
    {
      "cell_type": "code",
      "source": [
        "!rm *.csv\n",
        "!rm *.json*"
      ],
      "metadata": {
        "id": "ExJ74IutbHgm"
      },
      "execution_count": null,
      "outputs": []
    },
    {
      "cell_type": "markdown",
      "source": [
        "# Download data files from dropbox"
      ],
      "metadata": {
        "id": "AiRjI5xKWqG1"
      }
    },
    {
      "cell_type": "code",
      "source": [
        "!wget https://www.dropbox.com/scl/fi/5vz0kvjh0czm2ofuqjbzk/client_1_patients.json?rlkey=p8o0i9t2ee7x1iifsorj1aqms&dl=0\n",
        "!wget https://www.dropbox.com/scl/fi/jd39dqp9vh4slzb4i8ab3/client_2_episodes.json?rlkey=zcp1mfnjdx9p59lvny9825312&dl=0"
      ],
      "metadata": {
        "id": "YObKiuWK8y5p"
      },
      "execution_count": null,
      "outputs": []
    },
    {
      "cell_type": "markdown",
      "source": [
        "# Check If the files have been Downloaded"
      ],
      "metadata": {
        "id": "-pO_Fh6TXAdr"
      }
    },
    {
      "cell_type": "code",
      "source": [
        "!ls -ltr"
      ],
      "metadata": {
        "id": "GWKCIFhw8-1c"
      },
      "execution_count": null,
      "outputs": []
    },
    {
      "cell_type": "markdown",
      "source": [
        "# Rename the files to correct file names"
      ],
      "metadata": {
        "id": "oIWlv9E7XIYQ"
      }
    },
    {
      "cell_type": "code",
      "source": [
        "!mv 'client_1_patients.json?rlkey=p8o0i9t2ee7x1iifsorj1aqms' client_1_patients.json\n",
        "!mv 'client_2_episodes.json?rlkey=zcp1mfnjdx9p59lvny9825312' client_2_patients.json"
      ],
      "metadata": {
        "id": "aBnMahG19Hvr"
      },
      "execution_count": null,
      "outputs": []
    },
    {
      "cell_type": "markdown",
      "source": [
        "# Verify Filename changes"
      ],
      "metadata": {
        "id": "SUiTsTmnXblZ"
      }
    },
    {
      "cell_type": "code",
      "source": [
        "!ls -ltr"
      ],
      "metadata": {
        "id": "pwFrf6gp9Px5"
      },
      "execution_count": null,
      "outputs": []
    },
    {
      "cell_type": "markdown",
      "source": [
        "# Create a new function for reading client 2 files\n",
        "\n",
        "Based on my understanding multiple clients can send their own formatted data and we are converting them to out own specific formats to be either loaded to a database for feature engineering purposes or for further downstream processes.\n",
        "\n",
        "This is modularized by converting client specific code into seperate functions and can be called by a wrapper function that only need to add a new client for combining new clients data into our required format."
      ],
      "metadata": {
        "id": "1QfL_-PFXx9e"
      }
    },
    {
      "cell_type": "code",
      "source": [
        "import pandas as pd\n",
        "import json\n",
        "\n",
        "#Read Client_1 File Type\n",
        "def parse_client_1():\n",
        "  # Load JSON data\n",
        "  with open('client_1_patients.json','r') as f:\n",
        "      data = json.load(f) # your data here\n",
        "\n",
        "  patients = []\n",
        "  episodes = []\n",
        "  notes = []\n",
        "\n",
        "  # Iterate through episodes in JSON data\n",
        "  for patient in data:\n",
        "      patient_info = {\n",
        "          \"patient_id\": patient[\"patient_id\"],\n",
        "          \"name\": patient[\"name\"],\n",
        "          \"dob\": patient[\"dob\"],\n",
        "          \"ssn\": patient[\"ssn\"],\n",
        "          \"address\": patient[\"address\"]\n",
        "      }\n",
        "      patients.append(patient_info)\n",
        "      for episode in patient['episodes']:\n",
        "          episode_info = {\n",
        "              'patient_id': patient['patient_id'],\n",
        "              'episode_id': episode['episode_id'],\n",
        "              'admit_date_time': episode['admit_date_time'],\n",
        "              'discharge_date_time': episode['discharge_date_time'],\n",
        "              'admitting_diagnosis': episode['admitting_diagnosis'],\n",
        "              'discharge_diagnosis': episode['discharge_diagnosis']\n",
        "          }\n",
        "          episodes.append(episode_info)\n",
        "          for note in episode['notes']:\n",
        "              note_info = {\n",
        "                  'note_id': note['note_id'],\n",
        "                  'episode_id': note['episode_id'],\n",
        "                  'note_date_time': note['note_date_time'],\n",
        "                  'text': note['text']\n",
        "              }\n",
        "              notes.append(note_info)\n",
        "\n",
        "  # Convert lists to DataFrames\n",
        "  patients_df_1 = pd.DataFrame(patients)\n",
        "  episodes_df_1 = pd.DataFrame(episodes)\n",
        "  notes_df_1 = pd.DataFrame(notes)\n",
        "\n",
        "  return patients_df_1,episodes_df_1,notes_df_1\n",
        "\n",
        "#Read Client_2 File Type\n",
        "def parse_client_2():\n",
        "  # Load JSON data\n",
        "  with open('client_2_patients.json','r') as f:\n",
        "      data = json.load(f) # your data here\n",
        "\n",
        "  patients = []\n",
        "  episodes = []\n",
        "  notes = []\n",
        "\n",
        "  # Iterate through episodes in JSON data\n",
        "\n",
        "  for episode in data:\n",
        "      episode_info = {\n",
        "          'patient_id': episode['mrn'],\n",
        "          'episode_id': episode['episode_id'],\n",
        "          'admit_date_time': episode['admit_time'],\n",
        "          'discharge_date_time': episode['discharge_date_time'],\n",
        "          'admitting_diagnosis': episode['admitting_diagnosis'],\n",
        "          'discharge_diagnosis': episode['discharge_diagnosis']\n",
        "      }\n",
        "      episodes.append(episode_info)\n",
        "      patient_info = {\n",
        "          \"patient_id\": episode['patient']['mrn'],\n",
        "          \"name\": episode['patient']['name'],\n",
        "          \"dob\": episode['patient']['dob'],\n",
        "          \"ssn\": episode['patient']['ssn'],\n",
        "          \"address\": episode['patient']['address']\n",
        "      }\n",
        "      patients.append(patient_info)\n",
        "      for note in episode['notes']:\n",
        "        notes_info = {\n",
        "            \"note_id\": note['note_id'],\n",
        "            \"episode_id\": note['episode_id'],\n",
        "            \"note_date_time\": note['note_time'],\n",
        "            \"text\": note['clinical_text']\n",
        "        }\n",
        "        notes.append(notes_info)\n",
        "\n",
        "  # Convert lists to DataFrames\n",
        "  patients_df_2 = pd.DataFrame(patients)\n",
        "  episodes_df_2 = pd.DataFrame(episodes)\n",
        "  notes_df_2 = pd.DataFrame(notes)\n",
        "\n",
        "  return patients_df_2,episodes_df_2,notes_df_2\n",
        "\n",
        "patients_df_1,episodes_df_1,notes_df_1 = parse_client_1()\n",
        "patients_df_2,episodes_df_2,notes_df_2 = parse_client_2()\n",
        "\n",
        "merged_patients = pd.concat([patients_df_1, patients_df_2], ignore_index=True)\n",
        "merged_episodes = pd.concat([episodes_df_1, episodes_df_2], ignore_index=True)\n",
        "merged_notes  = pd.concat([notes_df_1, notes_df_2], ignore_index=True)\n",
        "#merged_patients = pd.merge(patients_df_1, patients_df_2, on=['patient_id'], how='outer')\n",
        "#merged_episodes = pd.merge(episodes_df_1, episodes_df_2, on=['patient_id','episode_id'], how='outer')\n",
        "#merged_notes = pd.merge(notes_df_1, notes_df_2, on=['episode_id','note_id'], how='outer')\n",
        "\n",
        "# Write DataFrames to CSV files\n",
        "merged_patients.to_csv('patients_combined.csv', index=False)\n",
        "merged_episodes.to_csv('episodes_combined.csv', index=False)\n",
        "merged_notes.to_csv('notes_combined.csv', index=False)"
      ],
      "metadata": {
        "id": "ApUVxOjs92j8"
      },
      "execution_count": null,
      "outputs": []
    },
    {
      "cell_type": "markdown",
      "source": [
        "# Verify three new combined files have been created"
      ],
      "metadata": {
        "id": "AYi_G0d7YaQQ"
      }
    },
    {
      "cell_type": "code",
      "source": [
        "!ls -ltr"
      ],
      "metadata": {
        "id": "sQOwxvCEWfQO"
      },
      "execution_count": null,
      "outputs": []
    },
    {
      "cell_type": "code",
      "source": [
        "!head -5 patients_combined.csv"
      ],
      "metadata": {
        "id": "TaSVwLrdcMbZ"
      },
      "execution_count": null,
      "outputs": []
    },
    {
      "cell_type": "code",
      "source": [
        "!head -5 episodes_combined.csv"
      ],
      "metadata": {
        "id": "ZX2CHeklcRsi"
      },
      "execution_count": null,
      "outputs": []
    },
    {
      "cell_type": "code",
      "source": [
        "!head -5 notes_combined.csv"
      ],
      "metadata": {
        "id": "jbg4tPH5cWlB"
      },
      "execution_count": null,
      "outputs": []
    },
    {
      "cell_type": "markdown",
      "source": [
        "Test the File generated"
      ],
      "metadata": {
        "id": "20E2tUzzy0wC"
      }
    },
    {
      "cell_type": "code",
      "source": [
        "import pytest\n",
        "import pandas as pd\n",
        "\n",
        "data_model = {'note': ['note_id', 'episode_id', 'note_date_time', 'text'],\n",
        "              'episode': ['episode_id', 'patient_id', 'admit_date_time', 'discharge_date_time', 'admitting_diagnosis', 'discharge_diagnosis'],\n",
        "              'patient': ['patient_id', 'name', 'dob', 'ssn', 'address']}\n",
        "\n",
        "def test_patient_csv():\n",
        "    patients_df = pd.read_csv('patients_combined.csv')\n",
        "    for field in data_model['patient']:\n",
        "        assert field in patients_df.columns\n",
        "\n",
        "def test_note_csv():\n",
        "    notes_df = pd.read_csv('episodes_combined.csv')\n",
        "    for field in data_model['note']:\n",
        "        assert field in notes_df.columns\n",
        "\n",
        "def test_episode_csv():\n",
        "    episodes_df = pd.read_csv('notes_combined.csv')\n",
        "    for field in data_model['episode']:\n",
        "        assert field in episodes_df.columns"
      ],
      "metadata": {
        "id": "bBGs1y82y38u"
      },
      "execution_count": null,
      "outputs": []
    }
  ]
}